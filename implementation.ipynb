{
  "nbformat": 4,
  "nbformat_minor": 0,
  "metadata": {
    "colab": {
      "provenance": []
    },
    "kernelspec": {
      "name": "python3",
      "display_name": "Python 3"
    },
    "language_info": {
      "name": "python"
    }
  },
  "cells": [
    {
      "cell_type": "markdown",
      "source": [
        "# ***Problem statement***\n",
        "\n",
        "\n",
        "1.   you are provided with a .csv file which contains experience of the employee (in months) and the salary of the employee (in thousand).\n",
        "2.   Your task is to help the employer in predicting the salary he has to give to a employee based on his past experience\n",
        "3. For this you need to understand the basic principle and functionining of linear regression and complete the functions below.\n",
        "\n"
      ],
      "metadata": {
        "id": "KNIPiXrxZqfO"
      }
    },
    {
      "cell_type": "markdown",
      "source": [
        "# **Packages**"
      ],
      "metadata": {
        "id": "8qeCfaccZsaZ"
      }
    },
    {
      "cell_type": "code",
      "source": [
        "import numpy as np\n",
        "import pandas as pd\n",
        "import matplotlib.pyplot as plt\n",
        "import math\n",
        "import copy\n"
      ],
      "metadata": {
        "id": "ebvnIRpvMJYB"
      },
      "execution_count": null,
      "outputs": []
    },
    {
      "cell_type": "markdown",
      "source": [
        " **import data file**\n",
        "\n",
        " **clean the data upto 2 decimal places for both experience and salary columns**\n",
        "\n",
        "**test size = 20%**\n",
        "\n",
        "**reshape the values by using concept of feature matrix**"
      ],
      "metadata": {
        "id": "N-X4Gc1vZ1uV"
      }
    },
    {
      "cell_type": "code",
      "source": [
        "data = pd.read_csv()\n",
        "#  code starts here\n",
        "\n",
        "\n",
        "\n",
        "\n",
        "\n",
        "\n",
        "\n",
        "\n",
        "# code ends here\n",
        "\n"
      ],
      "metadata": {
        "id": "a0XfWVdgMVEi"
      },
      "execution_count": null,
      "outputs": []
    },
    {
      "cell_type": "code",
      "source": [
        "# Run this code without making any changes\n",
        "\n",
        "\n",
        "# !!!!       IMP   !!!!!!!\n",
        "# X_train refers to the training data ( experience) for the model\n",
        "# y_train refers to the training data (salary )   for the model\n",
        "\n",
        "\n",
        "\n",
        "\n",
        "\n",
        "print(\"Type of x_train:\",type(X_train))\n",
        "print(\"First five elements of x_train are:\\n\", X_train[:5])\n",
        "print(\"Type of y_train:\",type(y_train))\n",
        "print(\"First five elements of y_train are:\\n\", y_train[:5])\n",
        "print ('The shape of x_train is:', X_train.shape)\n",
        "print ('The shape of y_train is: ', y_train.shape)\n",
        "print ('Number of training examples (m):', len(X_train))"
      ],
      "metadata": {
        "id": "k4SpESsHaBfV"
      },
      "execution_count": null,
      "outputs": []
    },
    {
      "cell_type": "markdown",
      "source": [
        " Plot the data using scatter plot\n",
        "\n"
      ],
      "metadata": {
        "id": "UbvfFHJeaLdt"
      }
    },
    {
      "cell_type": "code",
      "source": [
        "#plot data for visualisation\n",
        "\n",
        "###code starts here\n",
        "\n",
        "\n",
        "\n",
        "\n",
        "\n",
        "###code ends here"
      ],
      "metadata": {
        "id": "d2m_1Ls_NZEX"
      },
      "execution_count": null,
      "outputs": []
    },
    {
      "cell_type": "markdown",
      "source": [
        "**Implementation 1**\n",
        "\n",
        "**complete the compute_cost() function below to compute the cost  𝐽(𝑤,𝑏)\n",
        " .**"
      ],
      "metadata": {
        "id": "Mvsnf95XaSUS"
      }
    },
    {
      "cell_type": "code",
      "source": [
        "\n",
        "\n",
        "\n",
        "def compute_cost(x, y, w, b):\n",
        "    \"\"\"\n",
        "    Computes the cost function for linear regression.\n",
        "\n",
        "    Args:\n",
        "        x (ndarray): Shape (m,) Input to the model (experience in months)\n",
        "        y (ndarray): Shape (m,) Label (Actual salaries)\n",
        "        w, b (scalar): Parameters of the model\n",
        "\n",
        "    Returns\n",
        "        total_cost (float): The cost of using w,b as the parameters for linear regression\n",
        "               to fit the data points in x and y\n",
        "    \"\"\"\n",
        "    # number of training examples\n",
        "    m = x.shape[0]\n",
        "\n",
        "    # You need to return this variable correctly\n",
        "    total_cost = 0\n",
        "\n",
        "    ### START CODE HERE ###\n",
        "\n",
        "\n",
        "\n",
        "\n",
        "\n",
        "\n",
        "\n",
        "\n",
        "\n",
        "\n",
        "\n",
        "\n",
        "\n",
        "    ### END CODE HERE ###\n",
        "\n",
        "    return total_cost"
      ],
      "metadata": {
        "id": "5xjs02htOBkv"
      },
      "execution_count": null,
      "outputs": []
    },
    {
      "cell_type": "code",
      "source": [
        "# Compute cost with some initial values for paramaters w, b\n",
        "# Do not change the values in this code , simply run this block\n",
        "initial_w = 0.9998\n",
        "initial_b = 1\n",
        "\n",
        "cost = compute_cost(X_train, y_train, initial_w, initial_b)\n",
        "print(type(cost))\n",
        "print(cost)\n",
        "\n",
        "\n",
        "#output for cost should be around 14.406"
      ],
      "metadata": {
        "id": "iSt1tnddOH9b"
      },
      "execution_count": null,
      "outputs": []
    },
    {
      "cell_type": "markdown",
      "source": [
        "**Imlementation 2**\n",
        "\n",
        "\n",
        "**implement a function called compute_gradient which calculates  ∂𝐽(𝑤)∂𝑤\n",
        " ,  ∂𝐽(𝑤)∂𝑏**"
      ],
      "metadata": {
        "id": "hHtMa0UxavUE"
      }
    },
    {
      "cell_type": "code",
      "source": [
        "def compute_gradient(x, y, w, b):\n",
        "    \"\"\"\n",
        "    Computes the gradient for linear regression\n",
        "    Args:\n",
        "      x (ndarray): Shape (m,) Input to the model (Population of cities)\n",
        "      y (ndarray): Shape (m,) Label (Actual profits for the cities)\n",
        "      w, b (scalar): Parameters of the model\n",
        "    Returns\n",
        "      dj_dw (scalar): The gradient of the cost w.r.t. the parameters w\n",
        "      dj_db (scalar): The gradient of the cost w.r.t. the parameter b\n",
        "     \"\"\"\n",
        "\n",
        "    # Number of training examples\n",
        "    m = x.shape[0]\n",
        "    dj_dw = 0\n",
        "    dj_db = 0\n",
        "\n",
        "    ### START CODE HERE ###\n",
        "\n",
        "\n",
        "\n",
        "\n",
        "\n",
        "\n",
        "\n",
        "\n",
        "\n",
        "\n",
        "\n",
        "\n",
        "\n",
        "\n",
        "    ### END CODE HERE ###\n",
        "\n",
        "    return dj_dw, dj_db"
      ],
      "metadata": {
        "id": "sPdeLd36OprD"
      },
      "execution_count": null,
      "outputs": []
    },
    {
      "cell_type": "code",
      "source": [
        "initial_w = 0.998\n",
        "initial_b = 1\n",
        "\n",
        "tmp_dj_dw, tmp_dj_db = compute_gradient(X_train, y_train, initial_w, initial_b)\n",
        "print('Gradient at initial w, b (zeros):', tmp_dj_dw, tmp_dj_db)\n",
        "\n",
        "# output should be\n",
        "#Gradient at initial w, b (zeros): [22.08482317] [0.36802405]"
      ],
      "metadata": {
        "id": "HpFMpdz3apMN"
      },
      "execution_count": null,
      "outputs": []
    },
    {
      "cell_type": "code",
      "source": [
        "test_w = 0.2\n",
        "test_b = 0.2\n",
        "tmp_dj_dw, tmp_dj_db = compute_gradient(X_train, y_train, test_w, test_b)\n",
        "\n",
        "print('Gradient at test w, b:', tmp_dj_dw, tmp_dj_db)\n",
        "\n",
        "#output should be\n",
        "#Gradient at test w, b: [-600.2060557] [-21.2052925]"
      ],
      "metadata": {
        "id": "LmTTHbvta8Jb"
      },
      "execution_count": null,
      "outputs": []
    },
    {
      "cell_type": "markdown",
      "source": [
        "**!! do not change the below function just run it**"
      ],
      "metadata": {
        "id": "TicRvanCiaUd"
      }
    },
    {
      "cell_type": "code",
      "source": [
        "\n",
        "def gradient_descent(x, y, w_in, b_in, cost_function, gradient_function, alpha, num_iters):\n",
        "    m = len(x)\n",
        "    J_history = []\n",
        "    w_history = []\n",
        "    w = copy.deepcopy(w_in)\n",
        "    b = b_in\n",
        "    for i in range(num_iters):\n",
        "        dj_dw, dj_db = gradient_function(x, y, w, b )\n",
        "        w = w - alpha * dj_dw\n",
        "        b = b - alpha * dj_db\n",
        "        if i<100000:\n",
        "            cost =  cost_function(x, y, w, b)\n",
        "            J_history.append(cost)\n",
        "        if i% math.ceil(num_iters/10) == 0:\n",
        "            w_history.append(w)\n",
        "            print(f\"Iteration {i:4}: Cost {float(J_history[-1]):8.2f}   \")\n",
        "    return w, b, J_history, w_history"
      ],
      "metadata": {
        "id": "GE4SDXh4bB1X"
      },
      "execution_count": null,
      "outputs": []
    },
    {
      "cell_type": "markdown",
      "source": [
        " **Now let's run the gradient descent algorithm above to learn the parameters for our dataset.**"
      ],
      "metadata": {
        "id": "Bc1f_EKlbGW4"
      }
    },
    {
      "cell_type": "code",
      "source": [
        "# you can alter the values of iterations, alpha to get the minimum cost and minimum values for w and b\n",
        "\n",
        "\n",
        "# initialize fitting parameters. Recall that the shape of w is (n,)\n",
        "initial_w = 0.\n",
        "initial_b = 0.\n",
        "\n",
        "# some gradient descent settings\n",
        "iterations = 2500\n",
        "alpha = 0.0001\n",
        "\n",
        "w,b,_,_ = gradient_descent(X_train ,y_train, initial_w, initial_b,\n",
        "                     compute_cost, compute_gradient, alpha, iterations)\n",
        "print(\"w,b found by gradient descent:\", w, b)"
      ],
      "metadata": {
        "id": "_hzhg0bdbGi9"
      },
      "execution_count": null,
      "outputs": []
    },
    {
      "cell_type": "markdown",
      "source": [
        "**Train the model**"
      ],
      "metadata": {
        "id": "3cT9bBALbN_W"
      }
    },
    {
      "cell_type": "code",
      "source": [
        "# execute the code to predict the output values on the given imput of numpy arrays\n",
        "# do not alter the code just execute it\n",
        "m = X_train.shape[0]\n",
        "predicted = np.zeros(m)\n",
        "\n",
        "for i in range(m):\n",
        "    predicted[i] = w * X_train[i] + b"
      ],
      "metadata": {
        "id": "qAlMyoy1bOLi"
      },
      "execution_count": null,
      "outputs": []
    },
    {
      "cell_type": "markdown",
      "source": [
        "**plot the predicted values to see the linear fit.**"
      ],
      "metadata": {
        "id": "XbgzCEZbi4rW"
      }
    },
    {
      "cell_type": "code",
      "source": [
        "# Plot the linear fit\n",
        "\n",
        "###code starts here\n",
        "\n",
        "\n",
        "\n",
        "\n",
        "\n",
        "\n",
        "\n",
        "\n",
        "\n",
        "\n",
        "\n",
        "\n",
        "\n",
        "\n",
        "\n",
        "\n",
        "###code ends here\n"
      ],
      "metadata": {
        "id": "PywvzENQbSW6"
      },
      "execution_count": null,
      "outputs": []
    },
    {
      "cell_type": "markdown",
      "source": [
        "**output on input values**\n",
        "\n",
        "**Predict output on input values(in months) [17.0,50.0]**"
      ],
      "metadata": {
        "id": "tbAiwo3BbZIW"
      }
    },
    {
      "cell_type": "code",
      "source": [
        "###code starts here\n",
        "\n",
        "\n",
        "\n",
        "\n",
        "\n",
        "###code ends here"
      ],
      "metadata": {
        "id": "tbV22QAIbbtU"
      },
      "execution_count": null,
      "outputs": []
    }
  ]
}